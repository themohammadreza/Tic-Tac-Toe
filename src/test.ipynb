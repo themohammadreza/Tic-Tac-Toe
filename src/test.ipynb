{
 "cells": [
  {
   "cell_type": "markdown",
   "id": "ab75b233",
   "metadata": {},
   "source": [
    "- random first plater \n",
    "- fix spot\n",
    "- has player won\n",
    "- is board filled\n",
    "- swap player turn\n",
    "- show board\n",
    "- start game"
   ]
  },
  {
   "cell_type": "code",
   "execution_count": null,
   "id": "2b4b5ac5",
   "metadata": {},
   "outputs": [
    {
     "ename": "_IncompleteInputError",
     "evalue": "incomplete input (3535763064.py, line 39)",
     "output_type": "error",
     "traceback": [
      "  \u001b[36mCell\u001b[39m\u001b[36m \u001b[39m\u001b[32mIn[15]\u001b[39m\u001b[32m, line 39\u001b[39m\n\u001b[31m    \u001b[39m\u001b[31mwhile True:\u001b[39m\n               ^\n\u001b[31m_IncompleteInputError\u001b[39m\u001b[31m:\u001b[39m incomplete input\n"
     ]
    }
   ],
   "source": [
    "import random\n",
    "\n",
    "class TicTacToe:\n",
    "    def __init__(self):\n",
    "        self.board = ' ' * 10\n",
    "        self.player_turn = self.get_random_first_player()\n",
    "    \n",
    "    def get_random_first_player(self):\n",
    "        return \"X\" if random.randint(0, 1) == 0 else \"O\"\n",
    "    \n",
    "    def player_movement(self, cell, player):\n",
    "        self.board[cell] = player\n",
    "\n",
    "    def has_anyone_won(self, player):\n",
    "        win_situations = [\n",
    "            (), (), (), # row \n",
    "            (), (), (), # col\n",
    "            (), (), # cross\n",
    "        ]\n",
    "        for sitation in win_situations:\n",
    "            if self.board[sitation[0] == sitation[1] == sitation[2]] == player:\n",
    "                return True\n",
    "            return False\n",
    "\n",
    "    def swap_player_turn(self):\n",
    "        self.player_turn = \"X\" if self.player_turn == \"O\" else \"O\"\n",
    "\n",
    "    def is_board_field(self):\n",
    "        return ' ' not in self.board\n",
    "    \n",
    "    def show_board(self):\n",
    "        print(\"\\n\")\n",
    "        rows = [[self.board[i+j] for i in range(1, 4)] for j in range(0, 7, 3)]\n",
    "        for row in rows:\n",
    "            print(row)\n",
    "        print(\"\\n\")\n",
    "\n",
    "    def start_game(self):\n",
    "        while True:\n",
    "            self.show_board()\n",
    "            try:\n",
    "                cell = int(input(f'Player {self.player_turn} turn. Enter Your Cell Number: '))\n",
    "\n",
    "                if cell in range (1, 10) and self.board[cell] == ' ':\n",
    "                    player_movement(cell, self.player_turn)\n",
    "\n",
    "                    if self.has_anyone_won(self.player_turn):\n",
    "                        \n",
    "            except ValueError:\n",
    "                print('Invalid Cell Number! Select Between 1 to 9: ')"
   ]
  },
  {
   "cell_type": "code",
   "execution_count": 12,
   "id": "7076422c",
   "metadata": {},
   "outputs": [],
   "source": [
    "game = TicTacToe()"
   ]
  },
  {
   "cell_type": "code",
   "execution_count": 14,
   "id": "b37b8ab2",
   "metadata": {},
   "outputs": [
    {
     "name": "stdout",
     "output_type": "stream",
     "text": [
      "\n",
      "\n",
      "[' ', ' ', ' ']\n",
      "[' ', ' ', ' ']\n",
      "[' ', ' ', ' ']\n",
      "\n",
      "\n"
     ]
    }
   ],
   "source": [
    "game.show_board()"
   ]
  },
  {
   "cell_type": "code",
   "execution_count": null,
   "id": "6cc02b13",
   "metadata": {},
   "outputs": [],
   "source": []
  }
 ],
 "metadata": {
  "kernelspec": {
   "display_name": "proj",
   "language": "python",
   "name": "python3"
  },
  "language_info": {
   "codemirror_mode": {
    "name": "ipython",
    "version": 3
   },
   "file_extension": ".py",
   "mimetype": "text/x-python",
   "name": "python",
   "nbconvert_exporter": "python",
   "pygments_lexer": "ipython3",
   "version": "3.13.5"
  }
 },
 "nbformat": 4,
 "nbformat_minor": 5
}
